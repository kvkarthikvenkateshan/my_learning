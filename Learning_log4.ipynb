{
 "cells": [
  {
   "cell_type": "markdown",
   "metadata": {},
   "source": [
    "## Machine Learning Foundations"
   ]
  },
  {
   "cell_type": "markdown",
   "metadata": {},
   "source": [
    "* Residual Sum of Squares [RSS] is the sum of difference between actual scatter plot points and the y = (mx + c) line, i.e. in other words the distance between the point and the line, when a straight line is drawn from point to linear line.\n",
    "\n",
    "* Any number of lines with different slope and different y intercept can be drawn for a given scatter plot. To find which one is the correct line we make use of RSS. Minimal the value of RSS better it is.\n",
    "\n",
    "* One way of pridicting the value is where the point intersects the linear line(y = mx + c)\n",
    "\n",
    "* It is not mandatory to have the linear line instead the line can be quadratic or any other higher degree polynomial. As the degree of the line increases the RSS decreases and the higher drgree line passes through all the points of scatter polt.\n",
    "\n",
    "* Even if a higher order polynomial is used for drawing the line it is still called linear regression coz the higher order is just considered as a feature.\n",
    "\n",
    "* As the RSS becomes zero it may not be able to give the best possible predication.\n",
    "\n",
    "* The method of getting a curve to pass through all the points of the dataset is called overfitting, once the overfitting is achieve we will loose the ability to predict any thing as the model now prepared is for the only given dataset not any other data coming in future.\n",
    "\n",
    "* so the approach to prepare a model for predicting the data is to divide the actual set into two \n",
    "    \n",
    "    --> Trainig set\n",
    "    \n",
    "    --> Test set\n",
    "    \n",
    "* Now use the training data to prepare a model and once the model is ready use the test data to see the deviation or error from the actual value. Fine tune the model to get better accuracy.\n",
    "\n",
    "\n",
    "### Training Error\n",
    "\n",
    "We again calculate the residual sum of squares [RSS] on the training data with referrence to line and this is training error\n",
    "i.e. in other words we calculate the distance between the training point and the line then square it and then sum it with all other points the result thus obtained is Training Error\n",
    "\n",
    "### Test Error\n",
    "\n",
    "We again calculate the residual sum of squares [RSS] on the test data with referrence to line and this is test error\n",
    "i.e. in other words we calculate the distance between the test data point and the line and then square it and then sum it with all other points the result thus obtained is Test Error\n",
    "   "
   ]
  },
  {
   "cell_type": "markdown",
   "metadata": {},
   "source": [
    "### Training/Test Error Vs Model Complexity\n",
    "\n",
    "<img src=\"https://i.stack.imgur.com/alkeM.png\">"
   ]
  },
  {
   "cell_type": "code",
   "execution_count": null,
   "metadata": {
    "collapsed": true
   },
   "outputs": [],
   "source": []
  }
 ],
 "metadata": {
  "anaconda-cloud": {},
  "kernelspec": {
   "display_name": "Python [default]",
   "language": "python",
   "name": "python2"
  },
  "language_info": {
   "codemirror_mode": {
    "name": "ipython",
    "version": 2
   },
   "file_extension": ".py",
   "mimetype": "text/x-python",
   "name": "python",
   "nbconvert_exporter": "python",
   "pygments_lexer": "ipython2",
   "version": "2.7.12"
  }
 },
 "nbformat": 4,
 "nbformat_minor": 1
}
